{
 "cells": [
  {
   "cell_type": "markdown",
   "metadata": {},
   "source": [
    "# Exercises\n",
    "\n",
    "There are three exercises in this notebook:\n",
    "\n",
    "1. Use the cross-validation method to test the linear regression with different $\\alpha$ values, at least three.\n",
    "2. Implement a SGD method that will train the Lasso regression for 10 epochs.\n",
    "3. Extend the Fisher's classifier to work with two features. Use the class as the $y$."
   ]
  },
  {
   "cell_type": "markdown",
   "metadata": {},
   "source": [
    "## 1. Cross-validation linear regression\n",
    "\n",
    "You need to change the variable ``alpha`` to be a list of alphas. Next do a loop and finally compare the results."
   ]
  },
  {
   "cell_type": "code",
   "execution_count": 1,
   "metadata": {},
   "outputs": [
    {
     "name": "stdout",
     "output_type": "stream",
     "text": [
      "Mean Square Error:  372.3312921517967\n",
      "alpha:  0.0\n"
     ]
    }
   ],
   "source": [
    "import numpy as np\n",
    "\n",
    "def reg_predict(inputs, w, b):\n",
    "    results = []\n",
    "    for inp in inputs:\n",
    "        results.append(inp*w+b)\n",
    "    return results\n",
    "\n",
    "def calculate_Mean_Squared_Error(y, y_predicted):\n",
    "    sum_MSE = 0\n",
    "    n = len(y)\n",
    "    for i in range(n):\n",
    "        diff = y[i] - y_predicted[i]\n",
    "        squared_diff = diff**2\n",
    "        sum_MSE += squared_diff\n",
    "    return sum_MSE/n\n",
    "\n",
    "heights = np.array([188, 181, 197, 168, 167, 187, 178, 194, 140, 176, 168, 192, 173, 142, 176]).reshape(-1, 1)\n",
    "weights = np.array([141, 106, 149, 59, 79, 136, 65, 136, 52, 87, 115, 140, 82, 69, 121]).reshape(-1, 1)\n",
    "\n",
    "x = heights.reshape(15,1)\n",
    "y = weights.reshape(15,1)\n",
    "\n",
    "x = np.asmatrix(np.c_[np.ones((15,1)),x])\n",
    "\n",
    "I = np.identity(2)\n",
    "alphas = [a*0.01 for a in range(0,300)]\n",
    "\n",
    "best_MSE = None\n",
    "min_alpha = None\n",
    "\n",
    "for alpha in alphas:\n",
    "    w = np.linalg.inv(x.T*x + alpha * I)*x.T*y\n",
    "    y_predicted = reg_predict(heights.flatten(), w[1].item(), w[0].item())\n",
    "    MSE = calculate_Mean_Squared_Error(weights.flatten(), y_predicted)\n",
    "    if best_MSE is None or best_MSE > MSE:\n",
    "        best_MSE = MSE\n",
    "        min_aplha = alpha\n",
    "\n",
    "print(\"Mean Square Error: \" , best_MSE)\n",
    "print(\"alpha: \" , min_aplha)"
   ]
  },
  {
   "cell_type": "markdown",
   "metadata": {},
   "source": [
    "## 2. Implement based on the Ridge regression example, the Lasso regression.\n",
    "\n",
    "Please implement the SGD method and compare the results with the sklearn Lasso regression results. "
   ]
  },
  {
   "cell_type": "code",
   "execution_count": 2,
   "metadata": {},
   "outputs": [],
   "source": [
    "import numpy as np\n",
    "from sklearn.linear_model import Lasso"
   ]
  },
  {
   "cell_type": "code",
   "execution_count": 3,
   "metadata": {},
   "outputs": [],
   "source": [
    "# predicted_height = slope * weight + intercept\n",
    "def get_prediction(intercept, slope, weight):\n",
    "    return intercept + slope * weight\n",
    "\n",
    "def sdg(x, y, learning_rate, n_iter, k):\n",
    "    intercept = 0.0\n",
    "    slope = 1.0\n",
    "    \n",
    "    for _ in range(n_iter):\n",
    "#         sum_of_squared_residuals = (height -(intercept + slope * weight))^2\n",
    "#         d / d intercept sum_of_squared_residuals = -2 * (height - (intercept + slope * weight))\n",
    "#         d / d slope sum_of_squared_residuals = -2 * weight * (height - (intercept + slope * weight))\n",
    "        intercept_gradient = 0.0\n",
    "        slope_gradient = 0.0\n",
    "        for i in range(k):\n",
    "            y_hat = get_prediction(intercept, slope, x[i])\n",
    "            intercept_gradient += -2.0 * (y[i] - y_hat)\n",
    "            slope_gradient += -2.0 * x[i] * (y[i] - y_hat)\n",
    "            \n",
    "        step_size_intercept = (intercept_gradient / k) * learning_rate\n",
    "        step_size_slope = (slope_gradient / k) * learning_rate\n",
    "        \n",
    "        intercept -= step_size_intercept\n",
    "        slope -= step_size_slope\n",
    "    \n",
    "    return slope.item(), intercept.item()"
   ]
  },
  {
   "cell_type": "code",
   "execution_count": 4,
   "metadata": {},
   "outputs": [
    {
     "name": "stdout",
     "output_type": "stream",
     "text": [
      "sdg:  5730463.985809517 32440.386667402363\n",
      "lasso regression:  1.6177649901016677 -180.85790859980537\n"
     ]
    }
   ],
   "source": [
    "heights = np.array([188, 181, 197, 168, 167, 187, 178, 194, 140, 176, 168, 192, 173, 142, 176]).reshape(-1, 1)\n",
    "weights = np.array([141, 106, 149,  59,  79, 136,  65, 136,  52,  87, 115, 140,  82,  69, 121]).reshape(-1, 1)\n",
    "\n",
    "slope, intercept =  sdg(heights, weights, learning_rate=0.0001, n_iter=10, k=15)\n",
    "print(\"sdg: \", slope, intercept)\n",
    "\n",
    "lasso_regression = Lasso(alpha=0.1)\n",
    "lasso_regression.fit(X=heights, y=weights)\n",
    "print(\"lasso regression: \", lasso_regression.coef_.item(), lasso_regression.intercept_.item())"
   ]
  },
  {
   "cell_type": "markdown",
   "metadata": {},
   "source": [
    "## 3. Extend the Fisher's classifier\n",
    "\n",
    "Please extend the targets of the ``iris_data`` variable and use it as the $y$."
   ]
  },
  {
   "cell_type": "markdown",
   "metadata": {},
   "source": [
    "Tutorial I've used:\n",
    "[Using Linear Discriminant Analysis (LDA) for data Explore: Step by Step.](https://www.apsl.net/blog/2017/07/18/using-linear-discriminant-analysis-lda-data-explore-step-step/)"
   ]
  },
  {
   "cell_type": "code",
   "execution_count": 5,
   "metadata": {},
   "outputs": [],
   "source": [
    "import pandas as pd\n",
    "import numpy as np\n",
    "from matplotlib import pyplot as plt\n",
    "from sklearn.datasets import load_iris"
   ]
  },
  {
   "cell_type": "code",
   "execution_count": 6,
   "metadata": {},
   "outputs": [],
   "source": [
    "iris_data = load_iris()\n",
    "iris_df = pd.DataFrame(iris_data.data,columns=iris_data.feature_names)\n",
    "\n",
    "X = iris_df.values\n",
    "y = iris_data.target\n",
    "\n",
    "# mean vectors of the 3 different flower classes {0, 1, 2}\n",
    "mean_vectors = []\n",
    "for cl in range(0,3):\n",
    "    mean_vectors.append(np.mean(X[y==cl], axis=0))\n",
    "\n",
    "# overall mean\n",
    "overall_mean = np.mean(X, axis=0)\n",
    "    \n",
    "# within-class scatter matrix S_W\n",
    "S_W = np.zeros((4,4))\n",
    "for cl,mv in zip(range(0,3), mean_vectors):\n",
    "    class_sc_mat = np.zeros((4,4))                  # scatter matrix for every class\n",
    "    for row in X[y == cl]:\n",
    "        row, mv = row.reshape(4,1), mv.reshape(4,1) # make column vectors\n",
    "        class_sc_mat += (row-mv).dot((row-mv).T)\n",
    "    S_W += class_sc_mat                             # sum class scatter matrices\n",
    "\n",
    "# between-class scatter matrix S_B\n",
    "S_B = np.zeros((4,4))\n",
    "for i,mean_vec in enumerate(mean_vectors):  \n",
    "    n = X[y==i,:].shape[0]\n",
    "    mean_vec = mean_vec.reshape(4,1)                # make column vector\n",
    "    overall_mean = overall_mean.reshape(4,1)        # make column vector\n",
    "    S_B += n * (mean_vec - overall_mean).dot((mean_vec - overall_mean).T)\n",
    "\n",
    "\n",
    "# generalized eigenvalue problem for the matrix (S_W)^(-1)(S_B)  to obtain the linear discriminants\n",
    "eig_vals, eig_vecs = np.linalg.eig(np.linalg.inv(S_W).dot(S_B))\n",
    "    \n",
    "# list of (eigenvalue, eigenvector) tuples\n",
    "eig_pairs = [(np.abs(eig_vals[i]), eig_vecs[:,i]) for i in range(len(eig_vals))]\n",
    "\n",
    "# sort the (eigenvalue, eigenvector) tuples from high to low\n",
    "eig_pairs = sorted(eig_pairs, key=lambda k: k[0], reverse=True)\n",
    "\n",
    "# matrix W\n",
    "W = np.hstack((eig_pairs[0][1].reshape(4,1), eig_pairs[1][1].reshape(4,1)))"
   ]
  },
  {
   "cell_type": "code",
   "execution_count": 7,
   "metadata": {},
   "outputs": [
    {
     "data": {
      "image/png": "[encoded data removed]",
      "text/plain": [
       "<Figure size 432x288 with 1 Axes>"
      ]
     },
     "metadata": {
      "needs_background": "light"
     },
     "output_type": "display_data"
    }
   ],
   "source": [
    "label_dict = {0: 'Setosa', 1: 'Versicolor', 2:'Virginica'}\n",
    "\n",
    "X_lda = X.dot(W)\n",
    "assert X_lda.shape == (150,2), \"The matrix is not 150x2 dimensional.\"\n",
    "\n",
    "ax = plt.subplot(111)\n",
    "for label,marker,color in zip(\n",
    "    range(0,3),('^', 's', 'o'),('blue', 'red', 'green')):\n",
    "\n",
    "    plt.scatter(x=X_lda[:,0].real[y == label],\n",
    "            y=X_lda[:,1].real[y == label],\n",
    "            marker=marker,\n",
    "            color=color,\n",
    "            alpha=0.5,\n",
    "            label=label_dict[label]\n",
    "            )\n",
    "\n",
    "plt.xlabel('LD1')\n",
    "plt.ylabel('LD2')\n",
    "\n",
    "leg = plt.legend(loc='upper right', fancybox=True)\n",
    "leg.get_frame().set_alpha(0.5)\n",
    "plt.title('LDA: Iris projection onto the first 2 linear discriminants')\n",
    "\n",
    "# hide axis ticks\n",
    "plt.tick_params(axis=\"both\", which=\"both\", bottom=\"off\", top=\"off\",  \n",
    "        labelbottom=\"on\", left=\"off\", right=\"off\", labelleft=\"on\")\n",
    "\n",
    "# remove axis spines\n",
    "ax.spines[\"top\"].set_visible(False)  \n",
    "ax.spines[\"right\"].set_visible(False)\n",
    "ax.spines[\"bottom\"].set_visible(False)\n",
    "ax.spines[\"left\"].set_visible(False)    \n",
    "\n",
    "plt.grid()\n",
    "plt.tight_layout\n",
    "plt.show()"
   ]
  }
 ],
 "metadata": {
  "kernelspec": {
   "display_name": "Python 3",
   "language": "python",
   "name": "python3"
  },
  "language_info": {
   "codemirror_mode": {
    "name": "ipython",
    "version": 3
   },
   "file_extension": ".py",
   "mimetype": "text/x-python",
   "name": "python",
   "nbconvert_exporter": "python",
   "pygments_lexer": "ipython3",
   "version": "3.6.9"
  }
 },
 "nbformat": 4,
 "nbformat_minor": 4
}
